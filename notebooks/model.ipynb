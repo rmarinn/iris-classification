{
 "cells": [
  {
   "cell_type": "code",
   "execution_count": 11,
   "metadata": {},
   "outputs": [],
   "source": [
    "# imports\n",
    "import numpy as np\n",
    "import pandas as pd\n",
    "import matplotlib.pyplot as plt\n",
    "from sklearn.decomposition import PCA\n",
    "from sklearn.preprocessing import StandardScaler\n",
    "from sklearn.cluster import KMeans\n",
    "from sklearn.metrics import silhouette_score\n",
    "import sklearn.manifold\n",
    "from sklearn.model_selection import train_test_split\n",
    "from sklearn.linear_model import LogisticRegression\n",
    "from sklearn.metrics import accuracy_score, confusion_matrix, classification_report\n",
    "from sklearn.svm import SVC"
   ]
  },
  {
   "cell_type": "code",
   "execution_count": 16,
   "metadata": {},
   "outputs": [
    {
     "name": "stdout",
     "output_type": "stream",
     "text": [
      "training data: 120\n",
      "testing data: 30\n"
     ]
    }
   ],
   "source": [
    "# import data\n",
    "df = pd.read_csv('../data/Iris.csv')\n",
    "data = df[['SepalLengthCm', 'SepalWidthCm', 'PetalLengthCm', 'PetalWidthCm']]\n",
    "labels = df['Species'].apply(lambda x: x.split('-')[-1])\n",
    "\n",
    "# Standardize the data (mean=0, variance=1)\n",
    "scaler = StandardScaler()\n",
    "data_scld = pd.DataFrame(scaler.fit_transform(data), columns=data.columns)\n",
    "\n",
    "# split data into training and testing\n",
    "X_train, X_test, y_train, y_test = train_test_split(data_scld, labels, test_size=0.2, random_state=42)\n",
    "print(f'training data: {y_train.shape[0]}')\n",
    "print(f'testing data: {y_test.shape[0]}')"
   ]
  },
  {
   "cell_type": "code",
   "execution_count": 10,
   "metadata": {},
   "outputs": [
    {
     "name": "stdout",
     "output_type": "stream",
     "text": [
      "cumulative explained variance: [0.71309075 0.95599722]\n"
     ]
    },
    {
     "data": {
      "image/png": "[encoded data removed]",
      "text/plain": [
       "<Figure size 640x480 with 1 Axes>"
      ]
     },
     "metadata": {},
     "output_type": "display_data"
    }
   ],
   "source": [
    "# train PCA on the data\n",
    "def train_pca(data, num_components=2):\n",
    "    # Initialize PCA\n",
    "    pca_model = PCA(n_components=num_components)\n",
    "\n",
    "    # fit the PCA object to the data then transform the input data\n",
    "    data_pca = pca_model.fit_transform(data)\n",
    "\n",
    "    # Create a DataFrame for the transformed data\n",
    "    df_pca = pd.DataFrame(\n",
    "        data_pca, columns=[f\"PC{i + 1}\" for i in range(num_components)]\n",
    "    )\n",
    "\n",
    "    # Print the explained variance ratio for each principal component\n",
    "    explained_variance_ratios = pca_model.explained_variance_ratio_\n",
    "\n",
    "    return pca_model, df_pca, explained_variance_ratios\n",
    "\n",
    "pca_model, pca_data, explained_variance_ratios = train_pca(X_train, 2)\n",
    "cumulative_explained_variance = np.cumsum(explained_variance_ratios)\n",
    "print(f\"cumulative explained variance: {cumulative_explained_variance}\")\n",
    "\n",
    "# plot the PCA'd data\n",
    "plt.figure()\n",
    "plt.scatter(pca_data.iloc[:, 0], pca_data.iloc[:, 1], alpha=0.8)\n",
    "plt.title('PCA transformation')\n",
    "plt.xlabel('PC1')\n",
    "plt.ylabel('PC2')\n",
    "plt.show()"
   ]
  },
  {
   "cell_type": "code",
   "execution_count": 47,
   "metadata": {},
   "outputs": [
    {
     "name": "stdout",
     "output_type": "stream",
     "text": [
      "accuracy: 1.00\n",
      "                      precision    recall  f1-score   support\n",
      "\n",
      "              setosa       1.00      1.00      1.00        10\n",
      "versicolor/virginica       1.00      1.00      1.00        20\n",
      "\n",
      "            accuracy                           1.00        30\n",
      "           macro avg       1.00      1.00      1.00        30\n",
      "        weighted avg       1.00      1.00      1.00        30\n",
      "\n"
     ]
    }
   ],
   "source": [
    "# SVM Training\n",
    "\n",
    "# prepare the data\n",
    "y_train_svm = y_train.apply(lambda x: x if x == 'setosa' else 'versicolor/virginica')\n",
    "\n",
    "# train the model\n",
    "svm_model = SVC(kernel='linear')\n",
    "svm_model.fit(X_train, y_train_svm)\n",
    "\n",
    "# evaluating the model\n",
    "y_pred_svm = svm_model.predict(X_test)\n",
    "y_test_svm = y_test.apply(lambda x: x if x == 'setosa' else 'versicolor/virginica')\n",
    "accuracy = accuracy_score(y_test_svm, y_pred_svm)\n",
    "print(f'accuracy: {accuracy:.2f}')\n",
    "print(classification_report(y_test_svm, y_pred_svm))"
   ]
  },
  {
   "cell_type": "code",
   "execution_count": 43,
   "metadata": {},
   "outputs": [
    {
     "name": "stdout",
     "output_type": "stream",
     "text": [
      "accuracy: 1.00\n",
      "confusion matrix:\n",
      "[[ 9  0]\n",
      " [ 0 11]]\n",
      "classification report:\n",
      "              precision    recall  f1-score   support\n",
      "\n",
      "  versicolor       1.00      1.00      1.00         9\n",
      "   virginica       1.00      1.00      1.00        11\n",
      "\n",
      "    accuracy                           1.00        20\n",
      "   macro avg       1.00      1.00      1.00        20\n",
      "weighted avg       1.00      1.00      1.00        20\n",
      "\n"
     ]
    }
   ],
   "source": [
    "# Logistic Regression Training\n",
    "\n",
    "# prepare the data\n",
    "columns = ['PetalLengthCm', 'PetalWidthCm']\n",
    "X_train_logreg = X_train[y_train.isin(['versicolor', 'virginica'])][columns]\n",
    "y_train_logreg = y_train[y_train.isin(['versicolor', 'virginica'])]\n",
    "\n",
    "# train the model\n",
    "logreg_model = LogisticRegression(random_state=42)\n",
    "logreg_model.fit(X_train_logreg, y_train_logreg)\n",
    "\n",
    "# model evaluation\n",
    "X_test_logreg = X_test[y_test.isin(['versicolor', 'virginica'])][columns]\n",
    "y_test_logreg = y_test[y_test.isin(['versicolor', 'virginica'])]\n",
    "y_pred_logreg = logreg_model.predict(X_test_logreg)\n",
    "\n",
    "accuracy = accuracy_score(y_test_logreg, y_pred_logreg)\n",
    "confusion = confusion_matrix(y_test_logreg, y_pred_logreg)\n",
    "report = classification_report(y_test_logreg, y_pred_logreg)\n",
    "\n",
    "print(f'accuracy: {accuracy:.2f}')\n",
    "print(f'confusion matrix:\\n{confusion}')\n",
    "print(f'classification report:\\n{report}')"
   ]
  },
  {
   "cell_type": "code",
   "execution_count": 98,
   "metadata": {},
   "outputs": [
    {
     "name": "stdout",
     "output_type": "stream",
     "text": [
      "accuracy: 1.00\n",
      "confusion matrix:\n",
      "[[10  0  0]\n",
      " [ 0  9  0]\n",
      " [ 0  0 11]]\n",
      "classification report:\n",
      "              precision    recall  f1-score   support\n",
      "\n",
      "      setosa       1.00      1.00      1.00        10\n",
      "  versicolor       1.00      1.00      1.00         9\n",
      "   virginica       1.00      1.00      1.00        11\n",
      "\n",
      "    accuracy                           1.00        30\n",
      "   macro avg       1.00      1.00      1.00        30\n",
      "weighted avg       1.00      1.00      1.00        30\n",
      "\n"
     ]
    }
   ],
   "source": [
    "# Prepare Ensemble\n",
    "class Ensemble:\n",
    "    def __init__(self, svm, logreg) -> None:\n",
    "        self.svm = svm\n",
    "        self.logreg = logreg\n",
    "\n",
    "    def predict(self, X:pd.DataFrame):\n",
    "        pred = pd.Series(self.svm.predict(X))\n",
    "        X_logreg = X.reset_index(drop=True)[pred == 'versicolor/virginica'][['PetalLengthCm', 'PetalWidthCm']]\n",
    "\n",
    "        logreg_pred = pd.Series(self.logreg.predict(X_logreg), index=X_logreg.index)\n",
    "\n",
    "        pred.iloc[logreg_pred.index] = logreg_pred\n",
    "\n",
    "        return pred\n",
    "\n",
    "# model preparation\n",
    "model = Ensemble(svm_model, logreg_model)\n",
    "y_pred = model.predict(X_test)\n",
    "\n",
    "# model evaluation\n",
    "accuracy = accuracy_score(y_test, y_pred)\n",
    "confusion = confusion_matrix(y_test, y_pred)\n",
    "report = classification_report(y_test, y_pred)\n",
    "\n",
    "print(f'accuracy: {accuracy:.2f}')\n",
    "print(f'confusion matrix:\\n{confusion}')\n",
    "print(f'classification report:\\n{report}')"
   ]
  }
 ],
 "metadata": {
  "kernelspec": {
   "display_name": "iris-classification",
   "language": "python",
   "name": "python3"
  },
  "language_info": {
   "codemirror_mode": {
    "name": "ipython",
    "version": 3
   },
   "file_extension": ".py",
   "mimetype": "text/x-python",
   "name": "python",
   "nbconvert_exporter": "python",
   "pygments_lexer": "ipython3",
   "version": "3.11.5"
  },
  "orig_nbformat": 4
 },
 "nbformat": 4,
 "nbformat_minor": 2
}
